{
 "cells": [
  {
   "cell_type": "code",
   "execution_count": 241,
   "metadata": {},
   "outputs": [],
   "source": [
    "import numpy as np\n",
    "\n",
    "votes = np.array([7, 7, 3, 3])\n",
    "\n",
    "candidates = np.array([\n",
    "    ['A', 'C', 'D', 'B'],\n",
    "    ['C', 'A', 'B', 'D'],\n",
    "    ['B', 'C', 'D', 'A'],\n",
    "    ['B', 'A', 'C', 'D']\n",
    "])\n"
   ]
  },
  {
   "cell_type": "code",
   "execution_count": 242,
   "metadata": {},
   "outputs": [],
   "source": [
    "def print_result(text, result, value):\n",
    "    if(result[0] == value):\n",
    "        text += ' A'\n",
    "    if(result[1] == value):\n",
    "        text += ' B'\n",
    "    if(result[2] == value):\n",
    "        text += ' C'\n",
    "    if(result[3] == value):\n",
    "        text += ' D'\n",
    "    \n",
    "    print(text)"
   ]
  },
  {
   "cell_type": "code",
   "execution_count": 243,
   "metadata": {},
   "outputs": [],
   "source": [
    "def find_relative(candidates, votes):\n",
    "    result = np.zeros(len(candidates))\n",
    "\n",
    "    for i in range(len(candidates[0])):\n",
    "        if(candidates[i, 0] == 'A'):\n",
    "            result[0] += votes[i]\n",
    "        if(candidates[i, 0] == 'B'):\n",
    "            result[1] += votes[i]\n",
    "        if(candidates[i, 0] == 'C'):\n",
    "            result[2] += votes[i]\n",
    "        if(candidates[i, 0] == 'D'):\n",
    "            result[3] += votes[i]\n",
    "    \n",
    "    maxValue = np.max(result)\n",
    "    print(result)\n",
    "\n",
    "    print_result('Правило відносної більшості:', result, maxValue)\n",
    "    \n",
    "\n",
    "    return result\n"
   ]
  },
  {
   "cell_type": "code",
   "execution_count": 244,
   "metadata": {},
   "outputs": [
    {
     "name": "stdout",
     "output_type": "stream",
     "text": [
      "[7. 6. 7. 0.]\n",
      "Правило відносної більшості: A C\n",
      "[10.  0. 10.  0.]\n",
      "Правило абсолютної більшості: A C\n"
     ]
    }
   ],
   "source": [
    "def find_absolute(candidates, votes):\n",
    "    letters = np.array(['A', 'B', 'C', 'D'])\n",
    "    result = find_relative(candidates, votes)\n",
    "\n",
    "    sort_result = np.argsort(result)\n",
    "\n",
    "    result[:] = 0\n",
    "\n",
    "    for i in range(len(candidates)):\n",
    "        for j in range(len(candidates[0])):\n",
    "            if candidates[i, j] == letters[sort_result[2]]:\n",
    "                result[sort_result[2]] += votes[i]\n",
    "                break\n",
    "            if candidates[i, j] == letters[sort_result[3]]:\n",
    "                result[sort_result[3]] += votes[i]\n",
    "                break\n",
    "    \n",
    "    maxValue = np.max(result)\n",
    "\n",
    "    print(result)\n",
    "    print_result('Правило абсолютної більшості:', result, maxValue)\n",
    "\n",
    "\n",
    "\n",
    "find_absolute(candidates, votes)"
   ]
  },
  {
   "cell_type": "code",
   "execution_count": 245,
   "metadata": {},
   "outputs": [
    {
     "name": "stdout",
     "output_type": "stream",
     "text": [
      "[41. 25. 44. 10.]\n",
      "Правило Борда: C\n"
     ]
    }
   ],
   "source": [
    "def find_board(candidates, votes):\n",
    "    k = np.array([3, 2, 1, 0])\n",
    "\n",
    "    result = np.zeros(len(candidates))\n",
    "\n",
    "    for i in range(len(candidates)):\n",
    "        for j in range(len(candidates[0])):\n",
    "            if(candidates[i, j] == 'A'):\n",
    "                result[0] += votes[i] * k[j]\n",
    "            if(candidates[i, j] == 'B'):\n",
    "                result[1] += votes[i] * k[j]\n",
    "            if(candidates[i, j] == 'C'):\n",
    "                result[2] += votes[i] * k[j]\n",
    "            if(candidates[i, j] == 'D'):\n",
    "                result[3] += votes[i] * k[j]\n",
    "\n",
    "    maxValue = np.max(result)\n",
    "    print(result)\n",
    "    print_result('Правило Борда:', result, maxValue)\n",
    "\n",
    "find_board(candidates, votes)"
   ]
  },
  {
   "cell_type": "code",
   "execution_count": 246,
   "metadata": {},
   "outputs": [
    {
     "data": {
      "text/plain": [
       "array([[ 0., 14., 10., 17.],\n",
       "       [ 6.,  0.,  6., 13.],\n",
       "       [10., 14.,  0., 20.],\n",
       "       [ 3.,  7.,  0.,  0.]])"
      ]
     },
     "execution_count": 246,
     "metadata": {},
     "output_type": "execute_result"
    }
   ],
   "source": [
    "def find_Condorcet(candidates, votes):\n",
    "    letters = np.array(['A', 'B', 'C', 'D'])\n",
    "\n",
    "    result = np.zeros((len(candidates), len(candidates)))\n",
    "\n",
    "    for i in range(len(result)):\n",
    "        for j in range(len(result[0])):\n",
    "            if i == j: result[i, j] = 0\n",
    "\n",
    "            else:\n",
    "                for l in range(len(candidates)):\n",
    "                    for k in range(len(candidates[0])):\n",
    "                        if candidates[l, k] == letters[j]:\n",
    "                            break\n",
    "                        if candidates[l, k] == letters[i]:\n",
    "                            result[i, j] += votes[l]\n",
    "                            break\n",
    "    return(result)\n",
    "\n",
    "find_Condorcet(candidates, votes)"
   ]
  },
  {
   "cell_type": "code",
   "execution_count": 247,
   "metadata": {},
   "outputs": [
    {
     "name": "stdout",
     "output_type": "stream",
     "text": [
      "[ 2. -1.  2. -3.]\n",
      "Правило Копленда: A C\n"
     ]
    }
   ],
   "source": [
    "def find_Copeland(candidates, votes):\n",
    "    matrix = find_Condorcet(candidates, votes)\n",
    "\n",
    "    result = np.zeros(len(candidates))\n",
    "\n",
    "    for i in range(len(matrix)):\n",
    "        for j in range(i+1, len(matrix[i])):\n",
    "            if matrix[i, j] > matrix[j, i]:\n",
    "                result[i] += 1\n",
    "                result[j] -= 1\n",
    "            \n",
    "            if matrix[i, j] < matrix[j, i]:\n",
    "                result[i] -= 1\n",
    "                result[j] += 1\n",
    "\n",
    "    maxValue = np.max(result)\n",
    "    print(result)\n",
    "    print_result('Правило Копленда:', result, maxValue)\n",
    "\n",
    "find_Copeland(candidates, votes)"
   ]
  },
  {
   "cell_type": "code",
   "execution_count": 248,
   "metadata": {},
   "outputs": [
    {
     "name": "stdout",
     "output_type": "stream",
     "text": [
      "[10.  6. 10.  0.]\n",
      "Правило Сімпсона: A C\n"
     ]
    }
   ],
   "source": [
    "def find_Simpson(candidates, votes):\n",
    "    matrix = find_Condorcet(candidates, votes)\n",
    "\n",
    "    result = np.zeros(len(candidates))\n",
    "\n",
    "    for i in range(len(matrix)):\n",
    "        values = []\n",
    "        for j in range(len(matrix[i])):\n",
    "            if i != j:\n",
    "                values.append(matrix[i, j])\n",
    "        \n",
    "        result[i] = np.min(values)\n",
    "\n",
    "    maxValue = np.max(result)\n",
    "    print(result)\n",
    "    print_result('Правило Сімпсона:', result, maxValue)\n",
    "\n",
    "find_Simpson(candidates, votes)"
   ]
  }
 ],
 "metadata": {
  "kernelspec": {
   "display_name": "base",
   "language": "python",
   "name": "python3"
  },
  "language_info": {
   "codemirror_mode": {
    "name": "ipython",
    "version": 3
   },
   "file_extension": ".py",
   "mimetype": "text/x-python",
   "name": "python",
   "nbconvert_exporter": "python",
   "pygments_lexer": "ipython3",
   "version": "3.11.5"
  },
  "orig_nbformat": 4
 },
 "nbformat": 4,
 "nbformat_minor": 2
}
