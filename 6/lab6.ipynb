{
 "cells": [
  {
   "cell_type": "code",
   "execution_count": 6,
   "metadata": {},
   "outputs": [
    {
     "name": "stdout",
     "output_type": "stream",
     "text": [
      "Оптимальне призначення:\n",
      "Працівник 1 повинен працювати за станком 2\n",
      "Працівник 2 повинен працювати за станком 4\n",
      "Працівник 3 повинен працювати за станком 3\n",
      "Працівник 4 повинен працювати за станком 1\n"
     ]
    }
   ],
   "source": [
    "import numpy as np\n",
    "from scipy.optimize import linear_sum_assignment\n",
    "\n",
    "\n",
    "value = np.array([[2.3, 1.9, 2.2, 2.7],\n",
    "                  [1.8, 2.2, 2, 1.8],\n",
    "                  [2.5, 2, 2.2, 3],\n",
    "                  [2, 2.4, 2.4, 2.8]])\n",
    "\n",
    "indicesRow, indicesColumn = linear_sum_assignment(value)\n",
    "\n",
    "print(\"Оптимальне призначення:\")\n",
    "for i in range(len(indicesRow)):\n",
    "    print('Працівник', indicesRow[i]+1, 'повинен працювати за станком', indicesColumn[i]+1)\n"
   ]
  }
 ],
 "metadata": {
  "kernelspec": {
   "display_name": "base",
   "language": "python",
   "name": "python3"
  },
  "language_info": {
   "codemirror_mode": {
    "name": "ipython",
    "version": 3
   },
   "file_extension": ".py",
   "mimetype": "text/x-python",
   "name": "python",
   "nbconvert_exporter": "python",
   "pygments_lexer": "ipython3",
   "version": "3.11.5"
  },
  "orig_nbformat": 4
 },
 "nbformat": 4,
 "nbformat_minor": 2
}
