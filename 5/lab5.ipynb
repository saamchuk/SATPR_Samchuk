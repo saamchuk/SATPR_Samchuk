{
 "cells": [
  {
   "cell_type": "code",
   "execution_count": 1,
   "metadata": {},
   "outputs": [],
   "source": [
    "import numpy as np\n",
    "from pulp import LpMaximize, LpProblem, LpVariable, LpMinimize\n",
    "\n",
    "def pureStrategy(value):\n",
    "    min = np.min(value, axis=1)\n",
    "    maxmin = np.argmax(min)\n",
    "\n",
    "    max = np.max(value, axis=0)\n",
    "    minmax = np.argmin(max)\n",
    "\n",
    "    if(min[maxmin] == max[minmax]):\n",
    "        print('Гра має сідлову точку в чистих стратегіях.')\n",
    "        print('Оптимальна чиста стратегія гравця А - А', maxmin+1)\n",
    "        print('Оптимальна чиста стратегія гравця В - В', minmax+1)\n",
    "        print('Ціна гри:', min[maxmin])\n",
    "\n",
    "    else:\n",
    "        print('Верхня ціна гри:', max[minmax])\n",
    "        print('Нижня ціна гри:', min[maxmin])\n",
    "        print('Гра немає рішення в чистих стратегіях.')\n",
    "\n",
    "def output_2D_array(matrix):\n",
    "    for row in matrix:\n",
    "        for item in row:\n",
    "            print(f\"{item}\\t\", end='')\n",
    "        print()\n",
    "    print()"
   ]
  },
  {
   "cell_type": "code",
   "execution_count": 2,
   "metadata": {},
   "outputs": [
    {
     "name": "stdout",
     "output_type": "stream",
     "text": [
      "8\t6\t2\t8\t\n",
      "8\t9\t4\t5\t\n",
      "7\t5\t3\t5\t\n",
      "\n",
      "Гра має сідлову точку в чистих стратегіях.\n",
      "Оптимальна чиста стратегія гравця А - А 2\n",
      "Оптимальна чиста стратегія гравця В - В 3\n",
      "Ціна гри: 4\n"
     ]
    }
   ],
   "source": [
    "value = np.array([[8, 6, 2, 8],\n",
    "                  [8, 9, 4, 5],\n",
    "                  [7, 5, 3, 5]])\n",
    "\n",
    "output_2D_array(value)\n",
    "\n",
    "pureStrategy(value)"
   ]
  },
  {
   "cell_type": "code",
   "execution_count": 3,
   "metadata": {},
   "outputs": [
    {
     "name": "stdout",
     "output_type": "stream",
     "text": [
      "0.49\t0.42\t0.63\t0.36\t0.54\t0.81\t\n",
      "0.25\t0.4\t0.15\t0.64\t0.24\t0.09\t\n",
      "\n",
      "Верхня ціна гри: 0.42\n",
      "Нижня ціна гри: 0.36\n",
      "Гра немає рішення в чистих стратегіях.\n"
     ]
    }
   ],
   "source": [
    "value = np.array([[0.49, 0.42, 0.63, 0.36, 0.54, 0.81],\n",
    "                  [0.25, 0.4, 0.15, 0.64, 0.24, 0.09]])\n",
    "output_2D_array(value)\n",
    "\n",
    "pureStrategy(value)"
   ]
  },
  {
   "cell_type": "code",
   "execution_count": 4,
   "metadata": {},
   "outputs": [
    {
     "name": "stdout",
     "output_type": "stream",
     "text": [
      "Оптимальне значення: 2.40384611\n",
      "x1 = 0.0 x2 = 2.2435897 x3 = 0.0 x4 = 0.16025641 x5 = 0.0 x6 = 0.0\n"
     ]
    }
   ],
   "source": [
    "# Створення об'єкту задачі\n",
    "problem = LpProblem(name=\"maximize\", sense=LpMaximize)\n",
    "\n",
    "# змінні рішення\n",
    "x1 = LpVariable(name=\"x1\", lowBound=0)\n",
    "x2 = LpVariable(name=\"x2\", lowBound=0)\n",
    "x3 = LpVariable(name=\"x3\", lowBound=0)\n",
    "x4 = LpVariable(name=\"x4\", lowBound=0)\n",
    "x5 = LpVariable(name=\"x5\", lowBound=0)\n",
    "x6 = LpVariable(name=\"x6\", lowBound=0)\n",
    "\n",
    "# обмеження\n",
    "problem += value[0,0] * x1 + value[0,1] * x2 + value[0,2] * x3 + value[0,3] * x4 + value[0,4] * x5 + value[0,5] * x6 <= 1\n",
    "problem += value[1,0] * x1 + value[1,1] * x2 + value[1,2] * x3 + value[1,3] * x4 + value[1,4] * x5 + value[1,5] * x6 <= 1\n",
    "\n",
    "# цільова функції\n",
    "problem += x1 + x2 + x3 + x4 + x5 + x6\n",
    "\n",
    "problem.solve()\n",
    "\n",
    "print('Оптимальне значення:', problem.objective.value())\n",
    "print('x1 =', x1.value(), 'x2 =', x2.value(), 'x3 =', x3.value(), 'x4 =', x4.value(), 'x5 =', x5.value(), 'x6 =', x6.value())\n"
   ]
  },
  {
   "cell_type": "code",
   "execution_count": 5,
   "metadata": {},
   "outputs": [
    {
     "name": "stdout",
     "output_type": "stream",
     "text": [
      "Оптимальне значення: 2.4038461300000002\n",
      "y1 = 1.9230769 y2 = 0.48076923\n"
     ]
    }
   ],
   "source": [
    "problem = LpProblem(name=\"minimize\", sense=LpMinimize)\n",
    "\n",
    "# змінні рішення\n",
    "y1 = LpVariable(name=\"y1\", lowBound=0)\n",
    "y2 = LpVariable(name=\"y2\", lowBound=0)\n",
    "\n",
    "# обмеження\n",
    "for i in range(len(value[0])):\n",
    "    problem += value[0,i] * y1 + value[1,i] * y2 >= 1\n",
    "\n",
    "# цільова функції\n",
    "problem += y1 + y2\n",
    "\n",
    "problem.solve()\n",
    "\n",
    "print('Оптимальне значення:', problem.objective.value())\n",
    "print('y1 =', y1.value(), 'y2 =', y2.value())\n"
   ]
  },
  {
   "cell_type": "code",
   "execution_count": 6,
   "metadata": {},
   "outputs": [
    {
     "name": "stdout",
     "output_type": "stream",
     "text": [
      "Ціна гри: 0.42\n",
      "Стратегія гравця А: [0.8 0.2]\n",
      "Стратегія гравця B: [0.   0.93 0.   0.07 0.   0.  ]\n"
     ]
    }
   ],
   "source": [
    "c = 1/problem.objective.value()\n",
    "print('Ціна гри:', round(c, 2))\n",
    "\n",
    "a = np.ones(2)\n",
    "a[0] = y1.value() * c\n",
    "a[1] = y2.value() * c\n",
    "\n",
    "print('Стратегія гравця А:', a)\n",
    "\n",
    "b = np.ones(6)\n",
    "b[0] = x1.value() * c\n",
    "b[1] = x2.value() * c\n",
    "b[2] = x3.value() * c\n",
    "b[3] = x4.value() * c\n",
    "b[4] = x5.value() * c\n",
    "b[5] = x6.value() * c\n",
    "\n",
    "print('Стратегія гравця B:', np.round(b, 2))\n"
   ]
  }
 ],
 "metadata": {
  "kernelspec": {
   "display_name": "base",
   "language": "python",
   "name": "python3"
  },
  "language_info": {
   "codemirror_mode": {
    "name": "ipython",
    "version": 3
   },
   "file_extension": ".py",
   "mimetype": "text/x-python",
   "name": "python",
   "nbconvert_exporter": "python",
   "pygments_lexer": "ipython3",
   "version": "3.11.5"
  },
  "orig_nbformat": 4
 },
 "nbformat": 4,
 "nbformat_minor": 2
}
