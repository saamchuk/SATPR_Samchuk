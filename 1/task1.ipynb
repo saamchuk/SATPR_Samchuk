{
 "cells": [
  {
   "cell_type": "code",
   "execution_count": 1,
   "metadata": {},
   "outputs": [],
   "source": [
    "criteria = [[3, 7, 2, 9],\n",
    "            [8, 3, 6, 7],\n",
    "            [4, 8, 3, 5],\n",
    "            [9, 6, 5, 4]]\n",
    "\n",
    "importance = [8, 9, 6, 7]"
   ]
  },
  {
   "cell_type": "code",
   "execution_count": 2,
   "metadata": {},
   "outputs": [
    {
     "name": "stdout",
     "output_type": "stream",
     "text": [
      "24\t63\t12\t63\t\n",
      "64\t27\t36\t49\t\n",
      "32\t72\t18\t35\t\n",
      "72\t54\t30\t28\t\n"
     ]
    }
   ],
   "source": [
    "for i in range(len(criteria)):\n",
    "    for j in range(len(criteria[i])):\n",
    "        criteria[i][j] *= importance[j]\n",
    "\n",
    "for row in criteria:\n",
    "    for item in row:\n",
    "        print(f\"{item}\\t\", end='')\n",
    "    print( )"
   ]
  },
  {
   "cell_type": "code",
   "execution_count": 3,
   "metadata": {},
   "outputs": [
    {
     "name": "stdout",
     "output_type": "stream",
     "text": [
      "Сума: [162, 176, 157, 184]\n",
      "Максимальна функція корисності: 184 у альтернативи: A 4\n"
     ]
    }
   ],
   "source": [
    "result = list()\n",
    "\n",
    "for i in criteria:\n",
    "    sum = 0\n",
    "    for j in i:\n",
    "        sum += j\n",
    "    result.append(sum)\n",
    "\n",
    "print(\"Сума:\", result)\n",
    "\n",
    "print(\"Максимальна функція корисності:\", max(result), \"у альтернативи: A\", result.index(max(result))+1 )"
   ]
  }
 ],
 "metadata": {
  "kernelspec": {
   "display_name": "Python 3",
   "language": "python",
   "name": "python3"
  },
  "language_info": {
   "codemirror_mode": {
    "name": "ipython",
    "version": 3
   },
   "file_extension": ".py",
   "mimetype": "text/x-python",
   "name": "python",
   "nbconvert_exporter": "python",
   "pygments_lexer": "ipython3",
   "version": "3.11.4"
  },
  "orig_nbformat": 4
 },
 "nbformat": 4,
 "nbformat_minor": 2
}
