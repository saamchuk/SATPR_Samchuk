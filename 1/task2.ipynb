{
 "cells": [
  {
   "cell_type": "code",
   "execution_count": 1,
   "metadata": {},
   "outputs": [],
   "source": [
    "criteria = [[85, 30, 22, 0.65, 6],\n",
    "            [60, 20, 10, 0.6, 7],\n",
    "            [30, 12, 5, 0.45, 5],\n",
    "            [75, 24, 13, 0.7, 8],\n",
    "            [40, 15, 7, 0.55, 7]]\n",
    "\n",
    "importance = [7, 5, 6, 8, 6]\n",
    "\n",
    "normalization = [1, 0, 1, 1, 1]\n"
   ]
  },
  {
   "cell_type": "code",
   "execution_count": 2,
   "metadata": {},
   "outputs": [
    {
     "name": "stdout",
     "output_type": "stream",
     "text": [
      "7.0\t0.0\t6.0\t6.4\t2.0\t\n",
      "3.818\t2.778\t1.765\t4.8\t4.0\t\n",
      "0.0\t5.0\t0.0\t0.0\t0.0\t\n",
      "5.727\t1.667\t2.824\t8.0\t6.0\t\n",
      "1.273\t4.167\t0.706\t3.2\t4.0\t\n"
     ]
    }
   ],
   "source": [
    "for i in range(len(criteria[0])):\n",
    "    temp = list()\n",
    "    for j in range(len(criteria)):\n",
    "        temp.append(criteria[j][i])\n",
    "    if normalization[i]:\n",
    "        for j in range(len(criteria)):\n",
    "            criteria[j][i] = round((((criteria[j][i] - min(temp)) / (max(temp) - min(temp))) * importance[i]), 3)\n",
    "    else:\n",
    "        for j in range(len(criteria)):\n",
    "            criteria[j][i] = round((((max(temp) - criteria[j][i]) / (max(temp) - min(temp))) * importance[i]), 3)\n",
    "\n",
    "for row in criteria:\n",
    "    for item in row:\n",
    "        print(f\"{item}\\t\", end='')\n",
    "    print( )"
   ]
  },
  {
   "cell_type": "code",
   "execution_count": 3,
   "metadata": {},
   "outputs": [
    {
     "name": "stdout",
     "output_type": "stream",
     "text": [
      "Сума: [21.4, 17.161, 5.0, 24.218, 13.346]\n",
      "Максимальна функція корисності: 24.218 у альтернативи: A 4\n"
     ]
    }
   ],
   "source": [
    "result = list()\n",
    "for i in criteria:\n",
    "    result.append(sum(i))\n",
    "\n",
    "print(\"Сума:\", result)\n",
    "\n",
    "print(\"Максимальна функція корисності:\", max(result), \"у альтернативи: A\", result.index(max(result))+1 )"
   ]
  }
 ],
 "metadata": {
  "kernelspec": {
   "display_name": "Python 3",
   "language": "python",
   "name": "python3"
  },
  "language_info": {
   "codemirror_mode": {
    "name": "ipython",
    "version": 3
   },
   "file_extension": ".py",
   "mimetype": "text/x-python",
   "name": "python",
   "nbconvert_exporter": "python",
   "pygments_lexer": "ipython3",
   "version": "3.11.4"
  },
  "orig_nbformat": 4
 },
 "nbformat": 4,
 "nbformat_minor": 2
}
