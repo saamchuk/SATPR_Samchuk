{
 "cells": [
  {
   "cell_type": "code",
   "execution_count": 3233,
   "metadata": {},
   "outputs": [],
   "source": [
    "import pandas as pd\n",
    "import numpy as np\n",
    "import seaborn as sns\n",
    "import matplotlib.pyplot as plt\n",
    "\n",
    "def w_calculate(W, matrix):\n",
    "    for i in range(len(matrix)):\n",
    "        sum = np.prod(matrix[i])\n",
    "        W.append(sum ** (1/(len(matrix))))\n",
    "\n",
    "def sum_of_columns(SUM, matrix, W):\n",
    "    for j in range(len(matrix)):\n",
    "        sum = 0\n",
    "        for i in range(len(matrix)):\n",
    "            sum += matrix[i][j]\n",
    "        SUM.append(sum)\n",
    "    SUM.append(np.sum(W))\n",
    "\n",
    "def wnorm_calculate(wnorm, w, SUM):\n",
    "    for i in w:\n",
    "        wnorm.append(i/SUM[-1])\n",
    "    SUM.append(round(np.sum(wnorm)))\n",
    "\n",
    "def lambda_calculate(SUM, Wnorm):\n",
    "    result = 0\n",
    "    for i in range(len(Wnorm)):\n",
    "        result += SUM[i] * Wnorm[i]\n",
    "    return result\n",
    "\n",
    "def consistencyIndex_calculate(lam, num):\n",
    "    return ((lam - num) / (num - 1))\n",
    "\n",
    "def consistencyRelations_calculate(consistencyIndex, averageIndex):\n",
    "    return (consistencyIndex / averageIndex)\n",
    "\n",
    "def globalPriorities_calculate(Wnorm, Wnorm_alt, index):\n",
    "    result = 0\n",
    "    for i in range(len(Wnorm)):\n",
    "        result += Wnorm[i] * Wnorm_alt[i][index]\n",
    "    return result\n",
    "\n",
    "def max_alternativ(Wnorm_alt, i):\n",
    "    print('За критерієм K', (i + 1), 'найвищий пріоритет має альтернатива A', Wnorm_alt[i].index(max(Wnorm_alt[i])) + 1, 'зі значенням', (round(max(Wnorm_alt[i]), 2)))\n",
    "\n",
    "def output_1D_array(matrix):\n",
    "    for item in matrix:\n",
    "        print(f\"{round(item, 2)}\\t\", end='')\n",
    "    print(end = '\\n\\n')\n",
    "\n",
    "def output_2D_array(matrix):\n",
    "    for row in matrix:\n",
    "        for item in row:\n",
    "            print(f\"{round(item, 2)}\\t\", end='')\n",
    "        print()\n",
    "    print()\n",
    "\n",
    "def output_3D_array(matrix):\n",
    "    for row in matrix:\n",
    "        for item in row:\n",
    "            for i in item:\n",
    "                for j in i:\n",
    "                    print(f\"{round(j, 2)}\\t\", end='')\n",
    "                print( )\n",
    "            print()\n",
    "\n",
    "def graph(x, y, title):\n",
    "    plt.figure(figsize=(12, 6))\n",
    "\n",
    "    sns.barplot(x=list(x), y=list(y), palette='viridis')\n",
    "\n",
    "    plt.title(title)\n",
    "\n",
    "    plt.show()"
   ]
  },
  {
   "cell_type": "code",
   "execution_count": 3234,
   "metadata": {},
   "outputs": [
    {
     "name": "stdout",
     "output_type": "stream",
     "text": [
      "Попарні оцінки суджень:\n",
      "1.0\t2.0\t3.0\t4.0\t5.0\t6.0\t7.0\t8.0\t9.0\t\n",
      "0.5\t1.0\t2.0\t3.0\t4.0\t5.0\t6.0\t7.0\t8.0\t\n",
      "0.33\t0.5\t1.0\t2.0\t3.0\t4.0\t5.0\t6.0\t7.0\t\n",
      "0.25\t0.33\t0.5\t1.0\t2.0\t3.0\t4.0\t5.0\t6.0\t\n",
      "0.2\t0.25\t0.33\t0.5\t1.0\t2.0\t3.0\t4.0\t5.0\t\n",
      "0.17\t0.2\t0.25\t0.33\t0.5\t1.0\t2.0\t3.0\t4.0\t\n",
      "0.14\t0.17\t0.2\t0.25\t0.33\t0.5\t1.0\t2.0\t3.0\t\n",
      "0.12\t0.14\t0.17\t0.2\t0.25\t0.33\t0.5\t1.0\t2.0\t\n",
      "0.11\t0.12\t0.14\t0.17\t0.2\t0.25\t0.33\t0.5\t1.0\t\n",
      "\n"
     ]
    }
   ],
   "source": [
    "df = pd.read_excel('lab2.xlsx', sheet_name='Лист1')\n",
    "\n",
    "criteria = df.iloc[0:9,1:10].values\n",
    "\n",
    "print('Попарні оцінки суджень:')\n",
    "output_2D_array(criteria)"
   ]
  },
  {
   "cell_type": "code",
   "execution_count": 3235,
   "metadata": {},
   "outputs": [
    {
     "name": "stdout",
     "output_type": "stream",
     "text": [
      "Компонент власного вектору матриці W:\n",
      "4.15\t3.01\t2.11\t1.46\t1.0\t0.69\t0.47\t0.33\t0.24\t\n",
      "\n"
     ]
    }
   ],
   "source": [
    "W = list()\n",
    "w_calculate(W, criteria)\n",
    "\n",
    "print('Компонент власного вектору матриці W:')\n",
    "output_1D_array(W)"
   ]
  },
  {
   "cell_type": "code",
   "execution_count": 3236,
   "metadata": {},
   "outputs": [
    {
     "name": "stdout",
     "output_type": "stream",
     "text": [
      "Сума:\n",
      "2.83\t4.72\t7.59\t11.45\t16.28\t22.08\t28.83\t36.5\t45.0\t13.46\t\n",
      "\n"
     ]
    }
   ],
   "source": [
    "SUM = list()\n",
    "\n",
    "sum_of_columns(SUM, criteria, W)\n",
    "\n",
    "print('Сума:')\n",
    "output_1D_array(SUM)"
   ]
  },
  {
   "cell_type": "code",
   "execution_count": 3237,
   "metadata": {},
   "outputs": [
    {
     "name": "stdout",
     "output_type": "stream",
     "text": [
      "Нормований вектор матриці попарних порівнянь Wнорм:\n",
      "0.31\t0.22\t0.16\t0.11\t0.07\t0.05\t0.04\t0.02\t0.02\t\n",
      "\n",
      "Сума:\n",
      "2.83\t4.72\t7.59\t11.45\t16.28\t22.08\t28.83\t36.5\t45.0\t13.46\t1\t\n",
      "\n"
     ]
    }
   ],
   "source": [
    "Wnorm = list()\n",
    "\n",
    "wnorm_calculate(Wnorm, W, SUM)\n",
    "\n",
    "print('Нормований вектор матриці попарних порівнянь Wнорм:')\n",
    "output_1D_array(Wnorm)\n",
    "print('Сума:')\n",
    "output_1D_array(SUM)"
   ]
  },
  {
   "cell_type": "code",
   "execution_count": 3238,
   "metadata": {},
   "outputs": [
    {
     "name": "stdout",
     "output_type": "stream",
     "text": [
      "Найбільш пріоритетним критерієм є: K 1 зі значенням 0.31\n"
     ]
    }
   ],
   "source": [
    "print('Найбільш пріоритетним критерієм є: K', (Wnorm.index(max(Wnorm))) + 1, 'зі значенням', (round(max(Wnorm), 2)))"
   ]
  },
  {
   "cell_type": "code",
   "execution_count": 3239,
   "metadata": {},
   "outputs": [
    {
     "name": "stdout",
     "output_type": "stream",
     "text": [
      "Власне значення матриці: 9.415\n"
     ]
    }
   ],
   "source": [
    "lam = lambda_calculate(SUM, Wnorm)\n",
    "print('Власне значення матриці:', round(lam, 3))"
   ]
  },
  {
   "cell_type": "code",
   "execution_count": 3240,
   "metadata": {},
   "outputs": [
    {
     "name": "stdout",
     "output_type": "stream",
     "text": [
      "Індекс узгодженості: 0.052\n"
     ]
    }
   ],
   "source": [
    "consistencyIndex = consistencyIndex_calculate(lam, len(Wnorm))\n",
    "print('Індекс узгодженості:', round(consistencyIndex, 3))"
   ]
  },
  {
   "cell_type": "code",
   "execution_count": 3241,
   "metadata": {},
   "outputs": [
    {
     "name": "stdout",
     "output_type": "stream",
     "text": [
      "Середнє значення індексу узгодженості: 1.45\n"
     ]
    }
   ],
   "source": [
    "averageIndex = df.at[3, 'Unnamed: 15']\n",
    "print('Середнє значення індексу узгодженості:', averageIndex)"
   ]
  },
  {
   "cell_type": "code",
   "execution_count": 3242,
   "metadata": {},
   "outputs": [
    {
     "name": "stdout",
     "output_type": "stream",
     "text": [
      "Відношення узгодженості: 0.036\n"
     ]
    }
   ],
   "source": [
    "consistencyRelations = consistencyRelations_calculate(consistencyIndex, averageIndex)\n",
    "print('Відношення узгодженості:', round(consistencyRelations, 3))"
   ]
  },
  {
   "cell_type": "code",
   "execution_count": 3243,
   "metadata": {},
   "outputs": [
    {
     "data": {
      "image/png": "[encoded data removed]",
      "text/plain": [
       "<Figure size 1200x600 with 1 Axes>"
      ]
     },
     "metadata": {},
     "output_type": "display_data"
    }
   ],
   "source": [
    "example = [item[0].strip(\"[]'\") for item in df.iloc[0:9, 0:1].values]\n",
    "\n",
    "graph(example, Wnorm, 'Пріоритетність критеріїв')"
   ]
  },
  {
   "cell_type": "code",
   "execution_count": 3244,
   "metadata": {},
   "outputs": [],
   "source": [
    "df = pd.read_excel('lab2.xlsx', sheet_name='Лист2')\n",
    "alternatives = []\n",
    "for i in range(len(criteria)):\n",
    "    alternatives.append([df.iloc[((i * 7) + 1):((i * 7) + 4), 1:4].values])\n",
    "alternatives = np.array(alternatives)\n",
    "\n",
    "#output_3D_array(alternatives)"
   ]
  },
  {
   "cell_type": "code",
   "execution_count": 3245,
   "metadata": {},
   "outputs": [],
   "source": [
    "W_alt = []\n",
    "for i in range(len(alternatives)):\n",
    "    temp = list()\n",
    "    w_calculate(temp, alternatives[i][0])\n",
    "    W_alt.append(temp)\n",
    "\n",
    "#print('Компонент власного вектору матриці W:')\n",
    "#output_2D_array(W_alt)"
   ]
  },
  {
   "cell_type": "code",
   "execution_count": 3246,
   "metadata": {},
   "outputs": [],
   "source": [
    "SUM_alt = []\n",
    "\n",
    "for i in range(len(alternatives)):\n",
    "    temp = list()\n",
    "    sum_of_columns(temp, alternatives[i][0], W_alt[i])\n",
    "    SUM_alt.append(temp)\n",
    "\n",
    "#print('Сума:')\n",
    "#output_2D_array(SUM_alt)"
   ]
  },
  {
   "cell_type": "code",
   "execution_count": 3247,
   "metadata": {},
   "outputs": [],
   "source": [
    "Wnorm_alt = []\n",
    "\n",
    "for i in range(len(alternatives)):\n",
    "    temp = list()\n",
    "    wnorm_calculate(temp, W_alt[i], SUM_alt[i])\n",
    "    Wnorm_alt.append(temp)\n",
    "\n",
    "#print('Нормований вектор матриці попарних порівнянь Wнорм:')\n",
    "#output_2D_array(Wnorm_alt)\n",
    "#print()\n",
    "#print('Сума:')\n",
    "#output_2D_array(SUM_alt)"
   ]
  },
  {
   "cell_type": "code",
   "execution_count": 3248,
   "metadata": {},
   "outputs": [],
   "source": [
    "#for i in range(len(alternatives)):\n",
    "#    max_alternativ(Wnorm_alt, i)"
   ]
  },
  {
   "cell_type": "code",
   "execution_count": 3249,
   "metadata": {},
   "outputs": [],
   "source": [
    "lam_alt = []\n",
    "\n",
    "for i in range(len(alternatives)):\n",
    "    lam_alt.append(lambda_calculate(SUM_alt[i], Wnorm_alt[i]))\n",
    "\n",
    "#print('Власне значення матриці:')\n",
    "#print(lam_alt)"
   ]
  },
  {
   "cell_type": "code",
   "execution_count": 3250,
   "metadata": {},
   "outputs": [],
   "source": [
    "consistencyIndex_alt = []\n",
    "\n",
    "for i in range(len(alternatives)):\n",
    "    consistencyIndex_alt.append(consistencyIndex_calculate(lam_alt[i], len(Wnorm_alt[i])))\n",
    "\n",
    "#print('Індекс узгодженості:')\n",
    "#print(consistencyIndex_alt)"
   ]
  },
  {
   "cell_type": "code",
   "execution_count": 3251,
   "metadata": {},
   "outputs": [],
   "source": [
    "averageIndex_alt = df.at[2, 'Unnamed: 9']\n",
    "#print('Середнє значення індексу узгодженості:', averageIndex_alt)"
   ]
  },
  {
   "cell_type": "code",
   "execution_count": 3252,
   "metadata": {},
   "outputs": [],
   "source": [
    "consistencyRelations_alt = []\n",
    "\n",
    "for i in range(len(alternatives)):\n",
    "    consistencyRelations_alt.append(consistencyRelations_calculate(consistencyIndex_alt[i], averageIndex_alt))\n",
    "\n",
    "#print('Відношення узгодженості:')\n",
    "#print(consistencyRelations_alt)"
   ]
  },
  {
   "cell_type": "code",
   "execution_count": 3253,
   "metadata": {},
   "outputs": [],
   "source": [
    "example = [item[0].strip(\"[]'\") for item in df.iloc[1:4, 0:1].values]\n"
   ]
  },
  {
   "cell_type": "code",
   "execution_count": 3259,
   "metadata": {},
   "outputs": [
    {
     "name": "stdout",
     "output_type": "stream",
     "text": [
      "Пріоритетність альтернатив за критерією K 6\n",
      "1\t3\t5\t\n",
      "0.33\t1\t2\t\n",
      "0.2\t0.5\t1\t\n",
      "\n",
      "Компонент власного вектору матриці W:\n",
      "2.47\t0.87\t0.46\t\n",
      "\n",
      "Сума:\n",
      "1.53\t4.5\t8\t3.8\t1\t\n",
      "\n",
      "Нормований вектор матриці попарних порівнянь Wнорм:\n",
      "0.65\t0.23\t0.12\t\n",
      "\n",
      "За критерієм K 6 найвищий пріоритет має альтернатива A 1 зі значенням 0.65\n",
      "\n",
      "Власне значення матриці: 3.004\n",
      "\n",
      "Індекс узгодженості: 0.002\n",
      "\n",
      "Середнє значення індексу узгодженості: 0.58\n",
      "\n",
      "Відношення узгодженості: 0.003\n",
      "\n"
     ]
    },
    {
     "data": {
      "image/png": "[encoded data removed]",
      "text/plain": [
       "<Figure size 1200x600 with 1 Axes>"
      ]
     },
     "metadata": {},
     "output_type": "display_data"
    }
   ],
   "source": [
    "index = 5\n",
    "print('Пріоритетність альтернатив за критерією K', index+1)\n",
    "output_2D_array(alternatives[index][0])\n",
    "print('Компонент власного вектору матриці W:')\n",
    "output_1D_array(W_alt[index])\n",
    "print('Сума:')\n",
    "output_1D_array(SUM_alt[index])\n",
    "print('Нормований вектор матриці попарних порівнянь Wнорм:')\n",
    "output_1D_array(Wnorm_alt[index])\n",
    "max_alternativ(Wnorm_alt, index)\n",
    "print()\n",
    "print('Власне значення матриці:', round(lam_alt[index], 3), end = '\\n\\n')\n",
    "print('Індекс узгодженості:', round(consistencyIndex_alt[index], 3), end = '\\n\\n')\n",
    "print('Середнє значення індексу узгодженості:', averageIndex_alt, end = '\\n\\n')\n",
    "print('Відношення узгодженості:', round(consistencyRelations_alt[index], 3), end = '\\n\\n')\n",
    "graph(example, Wnorm_alt[index], 'Пріоритетність альтернатив за критерією K' + str(index+1))"
   ]
  },
  {
   "cell_type": "code",
   "execution_count": 3255,
   "metadata": {},
   "outputs": [
    {
     "name": "stdout",
     "output_type": "stream",
     "text": [
      "[0.18998492809020887, 0.4117246642769549, 0.3982904076328362]\n"
     ]
    },
    {
     "data": {
      "image/png": "[encoded data removed]",
      "text/plain": [
       "<Figure size 1200x600 with 1 Axes>"
      ]
     },
     "metadata": {},
     "output_type": "display_data"
    }
   ],
   "source": [
    "globalPriorities = []\n",
    "\n",
    "for i in range(len(example)):\n",
    "    globalPriorities.append(globalPriorities_calculate(Wnorm, Wnorm_alt, i))\n",
    "\n",
    "print(globalPriorities)\n",
    "\n",
    "graph(example, globalPriorities, 'Глобальна пріоритетність')"
   ]
  }
 ],
 "metadata": {
  "kernelspec": {
   "display_name": "base",
   "language": "python",
   "name": "python3"
  },
  "language_info": {
   "codemirror_mode": {
    "name": "ipython",
    "version": 3
   },
   "file_extension": ".py",
   "mimetype": "text/x-python",
   "name": "python",
   "nbconvert_exporter": "python",
   "pygments_lexer": "ipython3",
   "version": "3.11.5"
  },
  "orig_nbformat": 4
 },
 "nbformat": 4,
 "nbformat_minor": 2
}
