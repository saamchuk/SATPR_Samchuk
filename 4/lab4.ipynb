{
 "cells": [
  {
   "cell_type": "code",
   "execution_count": 89,
   "metadata": {},
   "outputs": [],
   "source": [
    "import pandas as pd\n",
    "import numpy as np\n",
    "\n",
    "def ValdCriterion(value):\n",
    "    min = np.min(value, axis=1)\n",
    "    result = np.argmax(min)\n",
    "    printResult('Критерій Вальда:', result, min)\n",
    "\n",
    "def optimismCriterion(value):\n",
    "    max = np.max(value, axis=1)\n",
    "    result = np.argmax(max)\n",
    "    printResult('Критерій оптимізму:', result, max)\n",
    "\n",
    "def GurvitzCriterion(value, l):\n",
    "    min = np.min(value, axis=1)\n",
    "    max = np.max(value, axis=1)\n",
    "    combination = l * min + (1 - l) * max\n",
    "    result = np.argmax(combination)\n",
    "    printResult('Критерій Гурвіца:', result, combination)\n",
    "\n",
    "def LaplasCriterion(value):\n",
    "    average = np.average(value, axis=1)\n",
    "    result = np.argmax(average)\n",
    "    printResult('Критерій Лапласа:', result, average)\n",
    "\n",
    "def BayesLaplaceCriterion(value, p):\n",
    "    value = value * p\n",
    "    sum = np.sum(value, axis=1)\n",
    "    result = np.argmax(sum)\n",
    "    printResult('Критерій Байєса-Лапласа:', result, sum)\n",
    "\n",
    "def HodgeLehmanCriterion(value, p, l):\n",
    "    min = np.min(value, axis=1)\n",
    "    value = value * p\n",
    "    sum = np.sum(value, axis=1)\n",
    "    combination = (1 - l) * min + l * sum\n",
    "    result = np.argmax(combination)\n",
    "    printResult('Критерій Ходжа-Лемана:', result, combination)\n",
    "\n",
    "def printResult(text, result, array):\n",
    "    print(text, 'стратегія А', result + 1, 'з результатом', np.round(array[result], 2))\n",
    "\n",
    "def output_1D_array(matrix):\n",
    "    for item in matrix:\n",
    "        print(f\"{item}\\t\", end='')\n",
    "    print(end = '\\n\\n')\n",
    "\n",
    "def output_2D_array(matrix):\n",
    "    for row in matrix:\n",
    "        for item in row:\n",
    "            print(f\"{item}\\t\", end='')\n",
    "        print()\n",
    "    print()"
   ]
  },
  {
   "cell_type": "code",
   "execution_count": 90,
   "metadata": {},
   "outputs": [
    {
     "name": "stdout",
     "output_type": "stream",
     "text": [
      "180\t140\t7\t217\t232\t\n",
      "420\t190\t140\t220\t100\t\n",
      "81\t315\t35\t49\t250\t\n",
      "220\t7\t9\t610\t201\t\n",
      "\n",
      "0.1\t0.2\t0.1\t0.2\t0.4\t\n",
      "\n"
     ]
    }
   ],
   "source": [
    "df = pd.read_excel('lab4.xlsx', sheet_name='Лист1')\n",
    "\n",
    "value = df.iloc[10:14,1:6].values\n",
    "output_2D_array(value)\n",
    "\n",
    "p = np.array([0.1, 0.2, 0.1, 0.2, 0.4])\n",
    "output_1D_array(p)\n",
    "\n",
    "l = 0.1"
   ]
  },
  {
   "cell_type": "code",
   "execution_count": 91,
   "metadata": {},
   "outputs": [
    {
     "name": "stdout",
     "output_type": "stream",
     "text": [
      "Критерій Вальда: стратегія А 2 з результатом 100\n",
      "Критерій оптимізму: стратегія А 4 з результатом 610\n",
      "Критерій Гурвіца: стратегія А 4 з результатом 549.7\n",
      "Критерій Лапласа: стратегія А 2 з результатом 214.0\n",
      "Критерій Байєса-Лапласа: стратегія А 4 з результатом 226.7\n",
      "Критерій Ходжа-Лемана: стратегія А 2 з результатом 107.8\n"
     ]
    }
   ],
   "source": [
    "ValdCriterion(value)\n",
    "optimismCriterion(value)\n",
    "GurvitzCriterion(value, l)\n",
    "LaplasCriterion(value)\n",
    "BayesLaplaceCriterion(value, p)\n",
    "HodgeLehmanCriterion(value, p, l)"
   ]
  },
  {
   "cell_type": "code",
   "execution_count": 92,
   "metadata": {},
   "outputs": [
    {
     "name": "stdout",
     "output_type": "stream",
     "text": [
      "3600\t1900\t\n",
      "1200\t2000\t\n",
      "1700\t1800\t\n",
      "\n",
      "0.3\t0.7\t\n",
      "\n"
     ]
    }
   ],
   "source": [
    "df = pd.read_excel('lab4.xlsx', sheet_name='Лист2')\n",
    "\n",
    "value = df.iloc[9:12,3:5].values\n",
    "output_2D_array(value)\n",
    "\n",
    "p = np.array([0.3, 0.7])\n",
    "output_1D_array(p)\n",
    "\n",
    "l = 0.5"
   ]
  },
  {
   "cell_type": "code",
   "execution_count": 93,
   "metadata": {},
   "outputs": [
    {
     "name": "stdout",
     "output_type": "stream",
     "text": [
      "Критерій Вальда: стратегія А 1 з результатом 1900\n",
      "Критерій оптимізму: стратегія А 1 з результатом 3600\n",
      "Критерій Гурвіца: стратегія А 1 з результатом 2750.0\n",
      "Критерій Лапласа: стратегія А 1 з результатом 2750.0\n",
      "Критерій Байєса-Лапласа: стратегія А 1 з результатом 2410.0\n",
      "Критерій Ходжа-Лемана: стратегія А 1 з результатом 2104.0\n"
     ]
    }
   ],
   "source": [
    "ValdCriterion(value)\n",
    "optimismCriterion(value)\n",
    "GurvitzCriterion(value, l)\n",
    "LaplasCriterion(value)\n",
    "BayesLaplaceCriterion(value, p)\n",
    "HodgeLehmanCriterion(value, p, 0.4)"
   ]
  }
 ],
 "metadata": {
  "kernelspec": {
   "display_name": "base",
   "language": "python",
   "name": "python3"
  },
  "language_info": {
   "codemirror_mode": {
    "name": "ipython",
    "version": 3
   },
   "file_extension": ".py",
   "mimetype": "text/x-python",
   "name": "python",
   "nbconvert_exporter": "python",
   "pygments_lexer": "ipython3",
   "version": "3.11.5"
  },
  "orig_nbformat": 4
 },
 "nbformat": 4,
 "nbformat_minor": 2
}
